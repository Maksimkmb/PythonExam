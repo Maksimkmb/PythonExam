{
 "cells": [
  {
   "cell_type": "code",
   "execution_count": null,
   "metadata": {},
   "outputs": [],
   "source": [
    "class Car:\n",
    "    def __init__(self, brand, model, year, price_per_day):\n",
    "        self.brand = brand\n",
    "        self.model = model\n",
    "        self.year = year\n",
    "        self.price_per_day = price_per_day\n",
    "        self.reserved = False\n",
    "\n",
    "    def __str__(self):\n",
    "        return f\"{self.year} {self.brand} {self.model}\"\n",
    "\n",
    "class Client:\n",
    "    def __init__(self, first_name, last_name):\n",
    "        self.first_name = first_name\n",
    "        self.last_name = last_name\n",
    "\n",
    "    def __str__(self):\n",
    "        return f\"{self.first_name} {self.last_name}\"\n",
    "\n",
    "class Rental:\n",
    "    def __init__(self, car, client, days_rented):\n",
    "        self.car = car\n",
    "        self.client = client\n",
    "        self.days_rented = days_rented\n",
    "\n",
    "    def reserve(self):\n",
    "        if not self.car.reserved:\n",
    "            self.car.reserved = True\n",
    "            return f\"{self.client} reserved {self.car}\"\n",
    "        else:\n",
    "            return f\"{self.car} is already reserved\"\n",
    "\n",
    "    def calculate_cost(self):\n",
    "        return self.days_rented * self.car.price_per_day\n",
    "\n",
    "\n",
    "car1 = Car(\"BMW\", \"C5\", 2018, 5000)\n",
    "car2 = Car(\"Audi\", \"Q6\", 2019, 4000)\n",
    "\n",
    "client1 = Client(\"John\", \"Doe\")\n",
    "client2 = Client(\"maksim\", \"Dukal\")\n",
    "\n",
    "rental1 = Rental(car1, client1, 3)\n",
    "rental2 = Rental(car1, client2, 2)\n",
    "\n",
    "print(rental1.reserve())\n",
    "print(rental2.reserve())\n",
    "\n",
    "print(f\"Rental cost 1: {rental1.calculate_cost()} USD\")\n",
    "print(f\"Rental cost 2: {rental2.calculate_cost()} USD\")\n",
    "\n",
    "\n"
   ]
  }
 ],
 "metadata": {
  "kernelspec": {
   "display_name": "Python 3",
   "language": "python",
   "name": "python3"
  },
  "language_info": {
   "name": "python",
   "version": "3.11.7"
  },
  "orig_nbformat": 4,
  "vscode": {
   "interpreter": {
    "hash": "f5d60dadaadefcdc8ea71f1b2a7d61f81b140c3ffed39f6be6e95efa72c685b2"
   }
  }
 },
 "nbformat": 4,
 "nbformat_minor": 2
}
